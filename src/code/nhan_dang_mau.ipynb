{
  "nbformat": 4,
  "nbformat_minor": 0,
  "metadata": {
    "colab": {
      "name": "nhan_dang_mau.ipynb",
      "provenance": [],
      "collapsed_sections": []
    },
    "kernelspec": {
      "name": "python3",
      "display_name": "Python 3"
    },
    "language_info": {
      "name": "python"
    }
  },
  "cells": [
    {
      "cell_type": "markdown",
      "metadata": {
        "id": "PjPZd2QXNiqY"
      },
      "source": [
        "Các bước thực hiện:\n",
        "\n",
        "```\n",
        "# This is formatted as code\n",
        "```\n",
        "\n",
        " 1) chia bộ dữ liệu thành tập training\n",
        "và test; \n",
        "2) tính PCA cho bộ training; \n",
        "3) với mỗi giá trị k,\n",
        "xây dựng bộ phân lớp với bộ training của k đặc trưng\n",
        "của PCA; \n",
        "4) xác định k đặc trưng của bộ test thông qua\n",
        "ước lượng PCA ở bước 2; \n",
        "5) tính các độ đo hiệu quả\n",
        "của bộ phân với với giá trị k này; \n",
        "6) lặp lại bước 3-5 với\n",
        "các giá trị k đã lựa chọn."
      ]
    },
    {
      "cell_type": "code",
      "metadata": {
        "id": "LBnBi0IPNsEI"
      },
      "source": [
        ""
      ],
      "execution_count": 239,
      "outputs": []
    },
    {
      "cell_type": "markdown",
      "metadata": {
        "id": "PGe7cD5JOCdM"
      },
      "source": [
        " 1) chia bộ dữ liệu thành tập training và test"
      ]
    },
    {
      "cell_type": "code",
      "metadata": {
        "id": "swAhFIaPmjLS"
      },
      "source": [
        "import numpy as np\n",
        "import pandas as pd\n"
      ],
      "execution_count": 240,
      "outputs": []
    },
    {
      "cell_type": "code",
      "metadata": {
        "colab": {
          "base_uri": "https://localhost:8080/"
        },
        "id": "Fnjd9JgJqqWW",
        "outputId": "e588f98b-815f-42a7-8583-dfa2948ccc25"
      },
      "source": [
        "\n",
        "with open('breast-cancer-wisconsin.data') as f:\n",
        "  lines = f.readlines()\n",
        "lines[:10]\n"
      ],
      "execution_count": 241,
      "outputs": [
        {
          "output_type": "execute_result",
          "data": {
            "text/plain": [
              "['1000025,5,1,1,1,2,1,3,1,1,2\\n',\n",
              " '1002945,5,4,4,5,7,10,3,2,1,2\\n',\n",
              " '1015425,3,1,1,1,2,2,3,1,1,2\\n',\n",
              " '1016277,6,8,8,1,3,4,3,7,1,2\\n',\n",
              " '1017023,4,1,1,3,2,1,3,1,1,2\\n',\n",
              " '1017122,8,10,10,8,7,10,9,7,1,4\\n',\n",
              " '1018099,1,1,1,1,2,10,3,1,1,2\\n',\n",
              " '1018561,2,1,2,1,2,1,3,1,1,2\\n',\n",
              " '1033078,2,1,1,1,2,1,1,1,5,2\\n',\n",
              " '1033078,4,2,1,1,2,1,2,1,1,2\\n']"
            ]
          },
          "metadata": {},
          "execution_count": 241
        }
      ]
    },
    {
      "cell_type": "code",
      "metadata": {
        "colab": {
          "base_uri": "https://localhost:8080/",
          "height": 35
        },
        "id": "zuE8ZCxDti9v",
        "outputId": "74c352e8-d020-4bdd-ce76-d4a8c33ccf6f"
      },
      "source": [
        "test = lines[40]\n",
        "test"
      ],
      "execution_count": 242,
      "outputs": [
        {
          "output_type": "execute_result",
          "data": {
            "application/vnd.google.colaboratory.intrinsic+json": {
              "type": "string"
            },
            "text/plain": [
              "'1096800,6,6,6,9,6,?,7,8,1,2\\n'"
            ]
          },
          "metadata": {},
          "execution_count": 242
        }
      ]
    },
    {
      "cell_type": "code",
      "metadata": {
        "id": "trfjDZJhtorp"
      },
      "source": [
        "def processing(string):\n",
        "  string = string.replace('\\n', '')\n",
        "  strings = string.split(',')\n",
        "  arr = np.zeros(len(strings), dtype='int32')\n",
        "  for i in range(len(strings)):\n",
        "    if strings[i] != '?':\n",
        "      arr[i] = int(strings[i])\n",
        "  return arr\n",
        "\n",
        "  \n"
      ],
      "execution_count": 243,
      "outputs": []
    },
    {
      "cell_type": "code",
      "metadata": {
        "colab": {
          "base_uri": "https://localhost:8080/"
        },
        "id": "lbzl-xMMt30X",
        "outputId": "02474651-ac49-49e4-f653-96dbbfde0b82"
      },
      "source": [
        "processing(test)"
      ],
      "execution_count": 244,
      "outputs": [
        {
          "output_type": "execute_result",
          "data": {
            "text/plain": [
              "array([1096800,       6,       6,       6,       9,       6,       0,\n",
              "             7,       8,       1,       2], dtype=int32)"
            ]
          },
          "metadata": {},
          "execution_count": 244
        }
      ]
    },
    {
      "cell_type": "code",
      "metadata": {
        "colab": {
          "base_uri": "https://localhost:8080/"
        },
        "id": "7OwMhi9zudIg",
        "outputId": "b8b1b5a0-3043-401c-a5cf-9b9037424f44"
      },
      "source": [
        "data = []\n",
        "for i in range(len(lines)):\n",
        "  line = processing(lines[i])\n",
        "  data.append(line)\n",
        "data[:10]"
      ],
      "execution_count": 245,
      "outputs": [
        {
          "output_type": "execute_result",
          "data": {
            "text/plain": [
              "[array([1000025,       5,       1,       1,       1,       2,       1,\n",
              "              3,       1,       1,       2], dtype=int32),\n",
              " array([1002945,       5,       4,       4,       5,       7,      10,\n",
              "              3,       2,       1,       2], dtype=int32),\n",
              " array([1015425,       3,       1,       1,       1,       2,       2,\n",
              "              3,       1,       1,       2], dtype=int32),\n",
              " array([1016277,       6,       8,       8,       1,       3,       4,\n",
              "              3,       7,       1,       2], dtype=int32),\n",
              " array([1017023,       4,       1,       1,       3,       2,       1,\n",
              "              3,       1,       1,       2], dtype=int32),\n",
              " array([1017122,       8,      10,      10,       8,       7,      10,\n",
              "              9,       7,       1,       4], dtype=int32),\n",
              " array([1018099,       1,       1,       1,       1,       2,      10,\n",
              "              3,       1,       1,       2], dtype=int32),\n",
              " array([1018561,       2,       1,       2,       1,       2,       1,\n",
              "              3,       1,       1,       2], dtype=int32),\n",
              " array([1033078,       2,       1,       1,       1,       2,       1,\n",
              "              1,       1,       5,       2], dtype=int32),\n",
              " array([1033078,       4,       2,       1,       1,       2,       1,\n",
              "              2,       1,       1,       2], dtype=int32)]"
            ]
          },
          "metadata": {},
          "execution_count": 245
        }
      ]
    },
    {
      "cell_type": "code",
      "metadata": {
        "colab": {
          "base_uri": "https://localhost:8080/"
        },
        "id": "FJcpMxtuurIv",
        "outputId": "955e8549-2481-4202-a05e-ee6c9943e729"
      },
      "source": [
        "data = np.copy(data)\n",
        "data.shape"
      ],
      "execution_count": 246,
      "outputs": [
        {
          "output_type": "execute_result",
          "data": {
            "text/plain": [
              "(699, 11)"
            ]
          },
          "metadata": {},
          "execution_count": 246
        }
      ]
    },
    {
      "cell_type": "code",
      "metadata": {
        "colab": {
          "base_uri": "https://localhost:8080/"
        },
        "id": "22EZTdaxESYr",
        "outputId": "70a9d477-0687-4044-8884-42220b9650b1"
      },
      "source": [
        "data[40]"
      ],
      "execution_count": 247,
      "outputs": [
        {
          "output_type": "execute_result",
          "data": {
            "text/plain": [
              "array([1096800,       6,       6,       6,       9,       6,       0,\n",
              "             7,       8,       1,       2], dtype=int32)"
            ]
          },
          "metadata": {},
          "execution_count": 247
        }
      ]
    },
    {
      "cell_type": "code",
      "metadata": {
        "colab": {
          "base_uri": "https://localhost:8080/"
        },
        "id": "HnfHNXyIu-4m",
        "outputId": "79b1698d-bd69-4669-842d-26dd95e1e28e"
      },
      "source": [
        "data[:10]"
      ],
      "execution_count": 248,
      "outputs": [
        {
          "output_type": "execute_result",
          "data": {
            "text/plain": [
              "array([[1000025,       5,       1,       1,       1,       2,       1,\n",
              "              3,       1,       1,       2],\n",
              "       [1002945,       5,       4,       4,       5,       7,      10,\n",
              "              3,       2,       1,       2],\n",
              "       [1015425,       3,       1,       1,       1,       2,       2,\n",
              "              3,       1,       1,       2],\n",
              "       [1016277,       6,       8,       8,       1,       3,       4,\n",
              "              3,       7,       1,       2],\n",
              "       [1017023,       4,       1,       1,       3,       2,       1,\n",
              "              3,       1,       1,       2],\n",
              "       [1017122,       8,      10,      10,       8,       7,      10,\n",
              "              9,       7,       1,       4],\n",
              "       [1018099,       1,       1,       1,       1,       2,      10,\n",
              "              3,       1,       1,       2],\n",
              "       [1018561,       2,       1,       2,       1,       2,       1,\n",
              "              3,       1,       1,       2],\n",
              "       [1033078,       2,       1,       1,       1,       2,       1,\n",
              "              1,       1,       5,       2],\n",
              "       [1033078,       4,       2,       1,       1,       2,       1,\n",
              "              2,       1,       1,       2]], dtype=int32)"
            ]
          },
          "metadata": {},
          "execution_count": 248
        }
      ]
    },
    {
      "cell_type": "code",
      "metadata": {
        "colab": {
          "base_uri": "https://localhost:8080/"
        },
        "id": "BUshWS9fDGdw",
        "outputId": "d55905b6-9cc4-48f0-a13b-906fb8c305ab"
      },
      "source": [
        "data_ = data[:, 1:11]\n",
        "data_"
      ],
      "execution_count": 249,
      "outputs": [
        {
          "output_type": "execute_result",
          "data": {
            "text/plain": [
              "array([[ 5,  1,  1, ...,  1,  1,  2],\n",
              "       [ 5,  4,  4, ...,  2,  1,  2],\n",
              "       [ 3,  1,  1, ...,  1,  1,  2],\n",
              "       ...,\n",
              "       [ 5, 10, 10, ..., 10,  2,  4],\n",
              "       [ 4,  8,  6, ...,  6,  1,  4],\n",
              "       [ 4,  8,  8, ...,  4,  1,  4]], dtype=int32)"
            ]
          },
          "metadata": {},
          "execution_count": 249
        }
      ]
    },
    {
      "cell_type": "code",
      "metadata": {
        "colab": {
          "base_uri": "https://localhost:8080/"
        },
        "id": "LwqrxXk_Dn2t",
        "outputId": "02a3a7f4-114b-420d-d644-69bcaf1a273d"
      },
      "source": [
        "data_.shape"
      ],
      "execution_count": 250,
      "outputs": [
        {
          "output_type": "execute_result",
          "data": {
            "text/plain": [
              "(699, 10)"
            ]
          },
          "metadata": {},
          "execution_count": 250
        }
      ]
    },
    {
      "cell_type": "code",
      "metadata": {
        "id": "xiSHwJm7OV-K"
      },
      "source": [
        "from sklearn.model_selection import train_test_split\n",
        "\n",
        "X_train, X_test = train_test_split(data_, test_size=0.2, random_state=10)\n"
      ],
      "execution_count": 251,
      "outputs": []
    },
    {
      "cell_type": "code",
      "metadata": {
        "colab": {
          "base_uri": "https://localhost:8080/"
        },
        "id": "Tm3BfsKaPQKQ",
        "outputId": "a50461c1-5813-4559-deca-3a2d12afa183"
      },
      "source": [
        "X_train.shape"
      ],
      "execution_count": 252,
      "outputs": [
        {
          "output_type": "execute_result",
          "data": {
            "text/plain": [
              "(559, 10)"
            ]
          },
          "metadata": {},
          "execution_count": 252
        }
      ]
    },
    {
      "cell_type": "code",
      "metadata": {
        "id": "I6RN3ejGPfI3"
      },
      "source": [
        "X_train_feature = X_train[:,:9]\n",
        "X_train_label = X_train[:, 9]\n",
        "X_test_feature = X_test[:,:9]\n",
        "X_test_label = X_test[:, 9]"
      ],
      "execution_count": 253,
      "outputs": []
    },
    {
      "cell_type": "code",
      "metadata": {
        "colab": {
          "base_uri": "https://localhost:8080/"
        },
        "id": "B6rTNrg8QEGH",
        "outputId": "b89463fe-de6e-40f5-88c9-5dd6d43572e8"
      },
      "source": [
        "X_train_feature[:2]"
      ],
      "execution_count": 254,
      "outputs": [
        {
          "output_type": "execute_result",
          "data": {
            "text/plain": [
              "array([[1, 1, 1, 1, 2, 1, 1, 1, 1],\n",
              "       [1, 1, 1, 1, 2, 1, 1, 1, 1]], dtype=int32)"
            ]
          },
          "metadata": {},
          "execution_count": 254
        }
      ]
    },
    {
      "cell_type": "markdown",
      "metadata": {
        "id": "WUos9WxXQgvG"
      },
      "source": [
        "2) tính PCA cho bộ training; "
      ]
    },
    {
      "cell_type": "code",
      "metadata": {
        "id": "Fqwev_ljFuun"
      },
      "source": [
        "# PCA k =2\n",
        "#mean\n",
        "X_bar = X_train_feature - X_train_feature.mean(axis=0)\n",
        "X_bar = X_bar.T"
      ],
      "execution_count": 255,
      "outputs": []
    },
    {
      "cell_type": "code",
      "metadata": {
        "colab": {
          "base_uri": "https://localhost:8080/"
        },
        "id": "Ni5lN-0uIeLs",
        "outputId": "3e241b44-7ff6-43d7-a7a1-ac1d698f89bf"
      },
      "source": [
        "X_bar.shape"
      ],
      "execution_count": 256,
      "outputs": [
        {
          "output_type": "execute_result",
          "data": {
            "text/plain": [
              "(9, 559)"
            ]
          },
          "metadata": {},
          "execution_count": 256
        }
      ]
    },
    {
      "cell_type": "code",
      "metadata": {
        "id": "r0E43pNWIhQE"
      },
      "source": [
        "conv_mat = np.cov(X_bar)\n",
        "eigen_values, eigen_vectors = np.linalg.eig(conv_mat)\n",
        "sorted_index = np.argsort(eigen_values)[::-1]\n",
        "sorted_eigenvalues = eigen_values[sorted_index]\n",
        "sorted_eigenvectors = eigen_vectors[sorted_index]"
      ],
      "execution_count": 257,
      "outputs": []
    },
    {
      "cell_type": "markdown",
      "metadata": {
        "id": "xPzuRhi9TJdR"
      },
      "source": [
        "[-0.30051823,  0.14201149, -0.80340081, -0.01495198, -0.06776486,\n",
        "         0.06136016, -0.1881806 ,  0.42297853, -0.14548261],"
      ]
    },
    {
      "cell_type": "code",
      "metadata": {
        "colab": {
          "base_uri": "https://localhost:8080/"
        },
        "id": "AU2qZHKCTAfq",
        "outputId": "889cf70d-2fc6-4d05-b758-3b74c6a0d920"
      },
      "source": [
        "sorted_eigenvectors"
      ],
      "execution_count": 258,
      "outputs": [
        {
          "output_type": "execute_result",
          "data": {
            "text/plain": [
              "array([[-0.29843103, -0.18910195, -0.82577886,  0.02422343, -0.03500633,\n",
              "         0.42046445, -0.07936546, -0.06704379,  0.06222812],\n",
              "       [-0.40813485,  0.20186132, -0.05616196,  0.72304886,  0.35980412,\n",
              "        -0.29398984, -0.07835535,  0.07975396, -0.19579286],\n",
              "       [-0.39223593,  0.1529378 , -0.13088705, -0.67294176,  0.27770076,\n",
              "        -0.3383995 , -0.06574609,  0.15649191, -0.36377846],\n",
              "       [-0.25139274,  0.17397511,  0.01383118, -0.08974657,  0.15421885,\n",
              "        -0.11948376,  0.51269531, -0.69230319,  0.34364021],\n",
              "       [-0.44081022, -0.7740217 ,  0.24256762,  0.04599532, -0.27030454,\n",
              "        -0.155048  ,  0.18894312,  0.01522492, -0.11218916],\n",
              "       [-0.29833246,  0.0329876 ,  0.08008931, -0.08607744, -0.03859645,\n",
              "        -0.19183061, -0.4032495 ,  0.25006993,  0.79539433],\n",
              "       [-0.12466463,  0.14500696,  0.04553158, -0.0021067 ,  0.1073372 ,\n",
              "         0.27928945,  0.66959527,  0.6318191 ,  0.15581106],\n",
              "       [-0.35336948,  0.49804798,  0.08055356,  0.03526511, -0.76215995,\n",
              "         0.0826145 , -0.01903257, -0.03377898, -0.17357854],\n",
              "       [-0.32185456,  0.02363392,  0.47307192, -0.07025343,  0.31851389,\n",
              "         0.67994295, -0.27083724, -0.14922419, -0.08788805]])"
            ]
          },
          "metadata": {},
          "execution_count": 258
        }
      ]
    },
    {
      "cell_type": "code",
      "metadata": {
        "colab": {
          "base_uri": "https://localhost:8080/"
        },
        "id": "-6H3cNgUIrvU",
        "outputId": "f630f84c-0467-429d-82fd-c5c92b33b9eb"
      },
      "source": [
        "sorted_index"
      ],
      "execution_count": 259,
      "outputs": [
        {
          "output_type": "execute_result",
          "data": {
            "text/plain": [
              "array([0, 1, 2, 4, 5, 6, 8, 7, 3])"
            ]
          },
          "metadata": {},
          "execution_count": 259
        }
      ]
    },
    {
      "cell_type": "code",
      "metadata": {
        "colab": {
          "base_uri": "https://localhost:8080/"
        },
        "id": "1pkGpYOlImir",
        "outputId": "9c953167-e1cc-45c7-bfe5-7d337f877984"
      },
      "source": [
        "Utk = sorted_eigenvectors[0:2, :]\n",
        "Z = Utk @ X_bar\n",
        "print(Z.shape)"
      ],
      "execution_count": 260,
      "outputs": [
        {
          "output_type": "stream",
          "name": "stdout",
          "text": [
            "(2, 559)\n"
          ]
        }
      ]
    },
    {
      "cell_type": "code",
      "metadata": {
        "id": "1kwxEES4I4i7"
      },
      "source": [
        "Z = Z.T"
      ],
      "execution_count": 261,
      "outputs": []
    },
    {
      "cell_type": "code",
      "metadata": {
        "colab": {
          "base_uri": "https://localhost:8080/"
        },
        "id": "V9PtKpTrKaGR",
        "outputId": "bf704bb1-0155-43f9-c47e-5a44ced120ef"
      },
      "source": [
        "Z"
      ],
      "execution_count": 262,
      "outputs": [
        {
          "output_type": "execute_result",
          "data": {
            "text/plain": [
              "array([[ 2.57384368,  0.24164407],\n",
              "       [ 2.57384368,  0.24164407],\n",
              "       [ 1.55181093, -1.20911496],\n",
              "       ...,\n",
              "       [ 1.51981968, -1.13947119],\n",
              "       [ 2.49447823,  0.16328872],\n",
              "       [-1.32299171, -1.63633796]])"
            ]
          },
          "metadata": {},
          "execution_count": 262
        }
      ]
    },
    {
      "cell_type": "code",
      "metadata": {
        "colab": {
          "base_uri": "https://localhost:8080/"
        },
        "id": "t3FMmVoPKnEf",
        "outputId": "a28e80d5-77ec-4a40-8354-26e9ef3c8116"
      },
      "source": [
        "colors= []\n",
        "so_2 = 0\n",
        "so_4 = 0\n",
        "for i in range(len(X_train_label)):\n",
        "  if X_train_label[i] == 2:\n",
        "    colors.append(0)\n",
        "    so_2 += 1\n",
        "  else:\n",
        "    colors.append(1)\n",
        "    so_4 += 1\n",
        "colors[:10]"
      ],
      "execution_count": 263,
      "outputs": [
        {
          "output_type": "execute_result",
          "data": {
            "text/plain": [
              "[0, 0, 0, 1, 0, 0, 0, 0, 0, 1]"
            ]
          },
          "metadata": {},
          "execution_count": 263
        }
      ]
    },
    {
      "cell_type": "code",
      "metadata": {
        "colab": {
          "base_uri": "https://localhost:8080/",
          "height": 265
        },
        "id": "jYqW7i3kKcm3",
        "outputId": "ef155f8c-53bb-43e8-bdde-8abb6398087e"
      },
      "source": [
        "import matplotlib.pyplot as plt\n",
        "\n",
        "fg = plt.subplot()\n",
        "plt.scatter(Z[:,0], Z[:, 1], c=colors)\n",
        "plt.show()"
      ],
      "execution_count": 264,
      "outputs": [
        {
          "output_type": "display_data",
          "data": {
            "image/png": "[encoded data removed]",
            "text/plain": [
              "<Figure size 432x288 with 1 Axes>"
            ]
          },
          "metadata": {
            "needs_background": "light"
          }
        }
      ]
    },
    {
      "cell_type": "code",
      "metadata": {
        "colab": {
          "base_uri": "https://localhost:8080/"
        },
        "id": "3Pth11uJMTnf",
        "outputId": "e5bba6e6-01c3-4f38-f86d-89872845043c"
      },
      "source": [
        "# Bayes classification\n",
        "print('{}, {}'.format(so_2, so_4))\n",
        "#class 1\n",
        "# lọc ra data của 2 lớp\n",
        "data_class_2 = []\n",
        "data_class_4 = []\n",
        "\n",
        "for i in range(len(X_train_feature)):\n",
        "  if X_train_label[i] == 2:\n",
        "    data_class_2.append(X_train_feature[i])\n",
        "  else:\n",
        "    data_class_4.append(X_train_feature[i])\n",
        "\n",
        "data_class_2 = np.copy(data_class_2)\n",
        "data_class_4 = np.copy(data_class_4)\n",
        "\n",
        "\n"
      ],
      "execution_count": 265,
      "outputs": [
        {
          "output_type": "stream",
          "name": "stdout",
          "text": [
            "360, 199\n"
          ]
        }
      ]
    },
    {
      "cell_type": "code",
      "metadata": {
        "colab": {
          "base_uri": "https://localhost:8080/"
        },
        "id": "IpN04dBxWGXs",
        "outputId": "ac443a86-22db-4162-ef33-b996c76766a5"
      },
      "source": [
        "feature1 = data_class_2\n",
        "n1 = len(feature1)\n",
        "prior1 = n1 / len(X_train_feature)\n",
        "u1 = feature1.mean(axis=0)\n",
        "print(u1)\n",
        "Z_1 = feature1 - u1\n",
        "print(Z_1)\n",
        "\n",
        "sigma_1 = (Z_1.T @ Z_1)/n1\n",
        "print('Sigma', sigma_1)"
      ],
      "execution_count": 266,
      "outputs": [
        {
          "output_type": "stream",
          "name": "stdout",
          "text": [
            "[3.         1.31944444 1.45833333 1.38888889 2.14166667 1.24166667\n",
            " 2.09722222 1.31111111 1.05      ]\n",
            "[[-2.         -0.31944444 -0.45833333 ... -1.09722222 -0.31111111\n",
            "  -0.05      ]\n",
            " [-2.         -0.31944444 -0.45833333 ... -1.09722222 -0.31111111\n",
            "  -0.05      ]\n",
            " [ 0.         -0.31944444  1.54166667 ... -1.09722222 -0.31111111\n",
            "  -0.05      ]\n",
            " ...\n",
            " [ 1.         -0.31944444 -0.45833333 ...  0.90277778 -0.31111111\n",
            "  -0.05      ]\n",
            " [-2.         -0.31944444 -0.45833333 ... -0.09722222 -0.31111111\n",
            "  -0.05      ]\n",
            " [ 2.         -0.31944444  2.54166667 ...  0.90277778  0.68888889\n",
            "  -0.05      ]]\n",
            "Sigma [[ 2.77777778e+00  3.91666667e-01  4.58333333e-01  4.11111111e-01\n",
            "   2.55555556e-01  1.22222222e-01  2.16666667e-01  3.11111111e-01\n",
            "  -3.88888889e-02]\n",
            " [ 3.91666667e-01  8.28510802e-01  6.36921296e-01  3.84104938e-01\n",
            "   3.99189815e-01  3.31134259e-01  3.55054012e-01  5.78395062e-01\n",
            "   6.25000000e-03]\n",
            " [ 4.58333333e-01  6.36921296e-01  9.87152778e-01  3.38425926e-01\n",
            "   3.87847222e-01  2.69791667e-01  2.94328704e-01  4.82407407e-01\n",
            "  -1.18055556e-02]\n",
            " [ 4.11111111e-01  3.84104938e-01  3.38425926e-01  1.08765432e+00\n",
            "   4.00462963e-01  3.11574074e-01  1.98302469e-01  3.90123457e-01\n",
            "  -5.55555556e-03]\n",
            " [ 2.55555556e-01  3.99189815e-01  3.87847222e-01  4.00462963e-01\n",
            "   9.43819444e-01  3.01875000e-01  2.19560185e-01  5.50370370e-01\n",
            "  -1.52777778e-03]\n",
            " [ 1.22222222e-01  3.31134259e-01  2.69791667e-01  3.11574074e-01\n",
            "   3.01875000e-01  9.72152778e-01  1.82060185e-01  1.35925926e-01\n",
            "  -6.52777778e-03]\n",
            " [ 2.16666667e-01  3.55054012e-01  2.94328704e-01  1.98302469e-01\n",
            "   2.19560185e-01  1.82060185e-01  1.23221451e+00  4.39197531e-01\n",
            "  -2.98611111e-02]\n",
            " [ 3.11111111e-01  5.78395062e-01  4.82407407e-01  3.90123457e-01\n",
            "   5.50370370e-01  1.35925926e-01  4.39197531e-01  1.20320988e+00\n",
            "  -1.66666667e-03]\n",
            " [-3.88888889e-02  6.25000000e-03 -1.18055556e-02 -5.55555556e-03\n",
            "  -1.52777778e-03 -6.52777778e-03 -2.98611111e-02 -1.66666667e-03\n",
            "   2.03055556e-01]]\n"
          ]
        }
      ]
    },
    {
      "cell_type": "code",
      "metadata": {
        "colab": {
          "base_uri": "https://localhost:8080/"
        },
        "id": "-ze6PUD7XRLT",
        "outputId": "11d68be5-e733-4b74-c1a3-c604d9535fb5"
      },
      "source": [
        "#class 2\n",
        "feature2 = data_class_4\n",
        "n2 = len(feature2)\n",
        "prior2 = n2 / len(X_train_feature)\n",
        "u2 = feature2.mean(axis=0)\n",
        "Z_2 = feature2 - u2\n",
        "sigma_2 = (Z_2.T @ Z_2)/n2\n",
        "print(sigma_2)\n",
        "#test"
      ],
      "execution_count": 267,
      "outputs": [
        {
          "output_type": "stream",
          "name": "stdout",
          "text": [
            "[[ 5.96550592  0.51544153  0.79210121 -0.89863892  0.21514608 -0.21292392\n",
            "  -0.02618621 -0.15779905  0.60695437]\n",
            " [ 0.51544153  7.47279109  5.13002197  2.96063231  2.98712154 -0.28203833\n",
            "   2.4796091   2.30693669  1.6414232 ]\n",
            " [ 0.79210121  5.13002197  6.59064165  2.06055403  2.37572284  0.11827984\n",
            "   2.00234843  2.32751698  1.38395495]\n",
            " [-0.89863892  2.96063231  2.06055403  9.93333502  1.56294033  1.71884548\n",
            "   2.19408601  2.16868261  2.04292821]\n",
            " [ 0.21514608  2.98712154  2.37572284  1.56294033  5.96424333  0.0742153\n",
            "   1.38559632  1.88235146  2.15428903]\n",
            " [-0.21292392 -0.28203833  0.11827984  1.71884548  0.0742153   9.99767683\n",
            "   0.94707204 -0.9639403   0.05732178]\n",
            " [-0.02618621  2.4796091   2.00234843  2.19408601  1.38559632  0.94707204\n",
            "   5.08037676  1.96573319  0.4695841 ]\n",
            " [-0.15779905  2.30693669  2.32751698  2.16868261  1.88235146 -0.9639403\n",
            "   1.96573319 11.06275094  1.86381657]\n",
            " [ 0.60695437  1.6414232   1.38395495  2.04292821  2.15428903  0.05732178\n",
            "   0.4695841   1.86381657  6.35776874]]\n"
          ]
        }
      ]
    },
    {
      "cell_type": "code",
      "metadata": {
        "id": "5vgVtgDXXg3a"
      },
      "source": [
        "# test\n",
        "import math\n",
        "def multivariateNormal(x, sigma, mu):\n",
        "    tu = math.exp(((x - mu) @ np.linalg.inv(sigma) @ (x - mu).T)/(-2))\n",
        "    mau = math.sqrt(2 * math.pi) ** x.shape[0] * math.sqrt(np.abs(np.linalg.det(sigma)))\n",
        "    return tu/mau\n"
      ],
      "execution_count": 268,
      "outputs": []
    },
    {
      "cell_type": "code",
      "metadata": {
        "colab": {
          "base_uri": "https://localhost:8080/"
        },
        "id": "GD-tZkGmYNjv",
        "outputId": "c1a4ed39-6c6e-459e-c1d9-0b022bfa6f30"
      },
      "source": [
        "X_test_label[: 10]"
      ],
      "execution_count": 270,
      "outputs": [
        {
          "output_type": "execute_result",
          "data": {
            "text/plain": [
              "array([4, 2, 2, 2, 2, 4, 2, 2, 4, 2], dtype=int32)"
            ]
          },
          "metadata": {},
          "execution_count": 270
        }
      ]
    },
    {
      "cell_type": "code",
      "metadata": {
        "colab": {
          "base_uri": "https://localhost:8080/"
        },
        "id": "yxzPk1hbX1UZ",
        "outputId": "49990e62-1c3b-47ba-a8e1-64161d6613ce"
      },
      "source": [
        "x_test = X_test_feature[2]\n",
        "_aaaa = multivariateNormal(x_test, sigma_1, u1)\n",
        "_bbbb = multivariateNormal(x_test, sigma_2, u2)\n",
        "if _aaaa > _bbbb:\n",
        "  print(2)\n",
        "elif _aaaa == _bbbb:\n",
        "  print('Equal')\n",
        "else:\n",
        "  print(4)    "
      ],
      "execution_count": 271,
      "outputs": [
        {
          "output_type": "stream",
          "name": "stdout",
          "text": [
            "2\n"
          ]
        }
      ]
    },
    {
      "cell_type": "code",
      "metadata": {
        "colab": {
          "base_uri": "https://localhost:8080/"
        },
        "id": "HzoKd1jeZ-22",
        "outputId": "3baacf28-84db-4cdb-fff5-2073ecac9f2f"
      },
      "source": [
        "true_label = np.zeros(shape=(1, len(X_test_feature)), dtype=np.int32)\n",
        "true_label.shape"
      ],
      "execution_count": 272,
      "outputs": [
        {
          "output_type": "execute_result",
          "data": {
            "text/plain": [
              "(1, 140)"
            ]
          },
          "metadata": {},
          "execution_count": 272
        }
      ]
    },
    {
      "cell_type": "code",
      "metadata": {
        "id": "vCJdmhnDYoUP"
      },
      "source": [
        "for i in range(len(X_test_feature)):\n",
        "  _aa = multivariateNormal(X_test_feature[i], sigma_1, u1)\n",
        "  _bb = multivariateNormal(X_test_feature[i], sigma_2, u2)\n",
        "  if _aa > _bb:\n",
        "    true_label[0, i] = 2\n",
        "  # elif _aa == _bb:\n",
        "  #   true_label[0, i] = 2\n",
        "  else:\n",
        "    true_label[0, i] = 4"
      ],
      "execution_count": 273,
      "outputs": []
    },
    {
      "cell_type": "code",
      "metadata": {
        "colab": {
          "base_uri": "https://localhost:8080/"
        },
        "id": "T1MGiPVfa8qi",
        "outputId": "4715fd6b-1625-4b45-dc56-367f4165d538"
      },
      "source": [
        "print(X_test_label[: 30])\n",
        "print(true_label[0, :30])"
      ],
      "execution_count": 274,
      "outputs": [
        {
          "output_type": "stream",
          "name": "stdout",
          "text": [
            "[4 2 2 2 2 4 2 2 4 2 4 2 2 2 2 2 2 2 2 4 4 4 4 2 2 4 4 4 2 2]\n",
            "[4 2 2 2 2 4 2 2 4 2 4 2 2 2 2 4 2 2 4 4 2 4 4 2 2 4 4 4 2 2]\n"
          ]
        }
      ]
    },
    {
      "cell_type": "code",
      "metadata": {
        "colab": {
          "base_uri": "https://localhost:8080/"
        },
        "id": "XF0-KXfMYqAQ",
        "outputId": "02a182db-f040-4a3c-e21d-8dac6d9e4d4c"
      },
      "source": [
        "from sklearn.metrics import f1_score\n",
        "f1_score(X_test_label, true_label[0], average='macro')"
      ],
      "execution_count": 275,
      "outputs": [
        {
          "output_type": "execute_result",
          "data": {
            "text/plain": [
              "0.9345029239766082"
            ]
          },
          "metadata": {},
          "execution_count": 275
        }
      ]
    },
    {
      "cell_type": "code",
      "metadata": {
        "colab": {
          "base_uri": "https://localhost:8080/"
        },
        "id": "nGQxvUTvcLgD",
        "outputId": "8a5a22b1-c02b-4c60-9877-ffc222a918fc"
      },
      "source": [
        "import sklearn.metrics as mt\n",
        "mt.accuracy_score(X_test_label, true_label[0])\n"
      ],
      "execution_count": 276,
      "outputs": [
        {
          "output_type": "execute_result",
          "data": {
            "text/plain": [
              "0.9428571428571428"
            ]
          },
          "metadata": {},
          "execution_count": 276
        }
      ]
    },
    {
      "cell_type": "code",
      "metadata": {
        "colab": {
          "base_uri": "https://localhost:8080/"
        },
        "id": "jpJvAQQqdFNX",
        "outputId": "89838c6a-4c21-47cd-8ebc-d6a98ba32c71"
      },
      "source": [
        "from sklearn.metrics import classification_report\n",
        "print(classification_report(X_test_label, true_label[0]))"
      ],
      "execution_count": 277,
      "outputs": [
        {
          "output_type": "stream",
          "name": "stdout",
          "text": [
            "              precision    recall  f1-score   support\n",
            "\n",
            "           2       0.99      0.93      0.96        98\n",
            "           4       0.85      0.98      0.91        42\n",
            "\n",
            "    accuracy                           0.94       140\n",
            "   macro avg       0.92      0.95      0.93       140\n",
            "weighted avg       0.95      0.94      0.94       140\n",
            "\n"
          ]
        }
      ]
    }
  ]
}